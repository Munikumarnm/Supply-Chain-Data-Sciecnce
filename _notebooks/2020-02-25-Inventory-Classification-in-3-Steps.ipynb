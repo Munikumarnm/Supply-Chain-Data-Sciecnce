{
  "nbformat": 4,
  "nbformat_minor": 0,
  "metadata": {
    "colab": {
      "name": "Inventory Classification in 3 Steps",
      "provenance": []
    },
    "kernelspec": {
      "display_name": "Python 3",
      "name": "python3"
    }
  },
  "cells": [
    {
      "cell_type": "markdown",
      "metadata": {
        "id": "NSv6p5YZ5PUh"
      },
      "source": [
        "#Step-1: Import the packages & Dataset"
      ]
    },
    {
      "cell_type": "code",
      "metadata": {
        "id": "Y3pfNCRUA1U5",
        "colab": {
          "base_uri": "https://localhost:8080/"
        },
        "outputId": "dc799ae9-1efc-4771-9d46-50b2411b4b48"
      },
      "source": [
        "# Let's import the packages required for the analysis\r\n",
        "import pandas as pd # Pandas used for Data analysis, Data importing, exporting etc\r\n",
        "import numpy as np  # NumPy is used for mathematical operatons  \r\n",
        "import seaborn as sns\r\n",
        "!pip install inventorize3  # Install this package since it is not available in colab\r\n",
        "import inventorize3 as inv  # import the inventorize3 \r\n",
        "#Dataset link: kaggle datasets download -d carrie1/ecommerce-data"
      ],
      "execution_count": null,
      "outputs": [
        {
          "output_type": "stream",
          "text": [
            "Collecting inventorize3\n",
            "  Downloading https://files.pythonhosted.org/packages/a3/51/0ef2bac43f90b5fde2c9f86259c0fa842a10ebe4b335b18d893019eb719b/inventorize3-0.0.1.tar.gz\n",
            "Requirement already satisfied: scipy in /usr/local/lib/python3.7/dist-packages (from inventorize3) (1.4.1)\n",
            "Requirement already satisfied: scikit-learn in /usr/local/lib/python3.7/dist-packages (from inventorize3) (0.22.2.post1)\n",
            "Requirement already satisfied: pandas>=0.23.3 in /usr/local/lib/python3.7/dist-packages (from inventorize3) (1.1.5)\n",
            "Requirement already satisfied: numpy>=1.14.5 in /usr/local/lib/python3.7/dist-packages (from inventorize3) (1.19.5)\n",
            "Requirement already satisfied: joblib>=0.11 in /usr/local/lib/python3.7/dist-packages (from scikit-learn->inventorize3) (1.0.1)\n",
            "Requirement already satisfied: pytz>=2017.2 in /usr/local/lib/python3.7/dist-packages (from pandas>=0.23.3->inventorize3) (2018.9)\n",
            "Requirement already satisfied: python-dateutil>=2.7.3 in /usr/local/lib/python3.7/dist-packages (from pandas>=0.23.3->inventorize3) (2.8.1)\n",
            "Requirement already satisfied: six>=1.5 in /usr/local/lib/python3.7/dist-packages (from python-dateutil>=2.7.3->pandas>=0.23.3->inventorize3) (1.15.0)\n",
            "Building wheels for collected packages: inventorize3\n",
            "  Building wheel for inventorize3 (setup.py) ... \u001b[?25l\u001b[?25hdone\n",
            "  Created wheel for inventorize3: filename=inventorize3-0.0.1-cp37-none-any.whl size=15604 sha256=f1e916f0c1bf3d72216ef390a9125a07821ca3fc0a2c9990c884bf67e2c4a956\n",
            "  Stored in directory: /root/.cache/pip/wheels/93/23/26/049c7e680d90eb2ba68c1fc1b5704a3c7cb65566f4f4742036\n",
            "Successfully built inventorize3\n",
            "Installing collected packages: inventorize3\n",
            "Successfully installed inventorize3-0.0.1\n"
          ],
          "name": "stdout"
        }
      ]
    },
    {
      "cell_type": "code",
      "metadata": {
        "id": "8AJi9FuTA1U5"
      },
      "source": [
        "# import the data\r\n",
        "raw_data= pd.read_csv(\"/content/drive/MyDrive/archive.zip\",encoding='unicode_escape') \r\n",
        "# Please change the path of the file while exeuting in your system\r\n",
        "# encoding is used to ingonre the special charecters in the data"
      ],
      "execution_count": null,
      "outputs": []
    },
    {
      "cell_type": "markdown",
      "metadata": {
        "id": "DNhOxR-H_2kN"
      },
      "source": [
        "# Step2: Data Cleaning & Preprocessing"
      ]
    },
    {
      "cell_type": "code",
      "metadata": {
        "colab": {
          "base_uri": "https://localhost:8080/",
          "height": 201
        },
        "id": "WkhxKvagA1VG",
        "outputId": "ed11579b-ac4e-45e7-f5c1-da4606fe6959"
      },
      "source": [
        "# Will check how data looks like\r\n",
        "raw_data.head()"
      ],
      "execution_count": null,
      "outputs": [
        {
          "output_type": "execute_result",
          "data": {
            "text/html": [
              "<div>\n",
              "<style scoped>\n",
              "    .dataframe tbody tr th:only-of-type {\n",
              "        vertical-align: middle;\n",
              "    }\n",
              "\n",
              "    .dataframe tbody tr th {\n",
              "        vertical-align: top;\n",
              "    }\n",
              "\n",
              "    .dataframe thead th {\n",
              "        text-align: right;\n",
              "    }\n",
              "</style>\n",
              "<table border=\"1\" class=\"dataframe\">\n",
              "  <thead>\n",
              "    <tr style=\"text-align: right;\">\n",
              "      <th></th>\n",
              "      <th>InvoiceNo</th>\n",
              "      <th>StockCode</th>\n",
              "      <th>Description</th>\n",
              "      <th>Quantity</th>\n",
              "      <th>InvoiceDate</th>\n",
              "      <th>UnitPrice</th>\n",
              "      <th>CustomerID</th>\n",
              "      <th>Country</th>\n",
              "    </tr>\n",
              "  </thead>\n",
              "  <tbody>\n",
              "    <tr>\n",
              "      <th>0</th>\n",
              "      <td>536365</td>\n",
              "      <td>85123A</td>\n",
              "      <td>WHITE HANGING HEART T-LIGHT HOLDER</td>\n",
              "      <td>6</td>\n",
              "      <td>12/1/2010 8:26</td>\n",
              "      <td>2.55</td>\n",
              "      <td>17850.0</td>\n",
              "      <td>United Kingdom</td>\n",
              "    </tr>\n",
              "    <tr>\n",
              "      <th>1</th>\n",
              "      <td>536365</td>\n",
              "      <td>71053</td>\n",
              "      <td>WHITE METAL LANTERN</td>\n",
              "      <td>6</td>\n",
              "      <td>12/1/2010 8:26</td>\n",
              "      <td>3.39</td>\n",
              "      <td>17850.0</td>\n",
              "      <td>United Kingdom</td>\n",
              "    </tr>\n",
              "    <tr>\n",
              "      <th>2</th>\n",
              "      <td>536365</td>\n",
              "      <td>84406B</td>\n",
              "      <td>CREAM CUPID HEARTS COAT HANGER</td>\n",
              "      <td>8</td>\n",
              "      <td>12/1/2010 8:26</td>\n",
              "      <td>2.75</td>\n",
              "      <td>17850.0</td>\n",
              "      <td>United Kingdom</td>\n",
              "    </tr>\n",
              "    <tr>\n",
              "      <th>3</th>\n",
              "      <td>536365</td>\n",
              "      <td>84029G</td>\n",
              "      <td>KNITTED UNION FLAG HOT WATER BOTTLE</td>\n",
              "      <td>6</td>\n",
              "      <td>12/1/2010 8:26</td>\n",
              "      <td>3.39</td>\n",
              "      <td>17850.0</td>\n",
              "      <td>United Kingdom</td>\n",
              "    </tr>\n",
              "    <tr>\n",
              "      <th>4</th>\n",
              "      <td>536365</td>\n",
              "      <td>84029E</td>\n",
              "      <td>RED WOOLLY HOTTIE WHITE HEART.</td>\n",
              "      <td>6</td>\n",
              "      <td>12/1/2010 8:26</td>\n",
              "      <td>3.39</td>\n",
              "      <td>17850.0</td>\n",
              "      <td>United Kingdom</td>\n",
              "    </tr>\n",
              "  </tbody>\n",
              "</table>\n",
              "</div>"
            ],
            "text/plain": [
              "  InvoiceNo StockCode  ... CustomerID         Country\n",
              "0    536365    85123A  ...    17850.0  United Kingdom\n",
              "1    536365     71053  ...    17850.0  United Kingdom\n",
              "2    536365    84406B  ...    17850.0  United Kingdom\n",
              "3    536365    84029G  ...    17850.0  United Kingdom\n",
              "4    536365    84029E  ...    17850.0  United Kingdom\n",
              "\n",
              "[5 rows x 8 columns]"
            ]
          },
          "metadata": {
            "tags": []
          },
          "execution_count": 3
        }
      ]
    },
    {
      "cell_type": "code",
      "metadata": {
        "colab": {
          "base_uri": "https://localhost:8080/"
        },
        "id": "s-6yPyFYA1VH",
        "outputId": "86d8f064-12a1-47ae-f387-e5a3f9f586ef"
      },
      "source": [
        "# Dimesnsion of the data\r\n",
        "raw_data.shape"
      ],
      "execution_count": null,
      "outputs": [
        {
          "output_type": "execute_result",
          "data": {
            "text/plain": [
              "(541909, 8)"
            ]
          },
          "metadata": {
            "tags": []
          },
          "execution_count": 4
        }
      ]
    },
    {
      "cell_type": "code",
      "metadata": {
        "colab": {
          "base_uri": "https://localhost:8080/"
        },
        "id": "IWTf56c4l1pE",
        "outputId": "ac9a5c49-f3da-48a2-d83b-a841c9baf71b"
      },
      "source": [
        "# Let us check the types of the columns\r\n",
        "raw_data.dtypes"
      ],
      "execution_count": null,
      "outputs": [
        {
          "output_type": "execute_result",
          "data": {
            "text/plain": [
              "InvoiceNo       object\n",
              "StockCode       object\n",
              "Description     object\n",
              "Quantity         int64\n",
              "InvoiceDate     object\n",
              "UnitPrice      float64\n",
              "CustomerID     float64\n",
              "Country         object\n",
              "dtype: object"
            ]
          },
          "metadata": {
            "tags": []
          },
          "execution_count": 5
        }
      ]
    },
    {
      "cell_type": "code",
      "metadata": {
        "colab": {
          "base_uri": "https://localhost:8080/"
        },
        "id": "Wg7zO4CqA1VH",
        "outputId": "a7389b74-cc63-4f9e-8749-09cfae553aee"
      },
      "source": [
        "# Minimum & Max date in dataset\r\n",
        "raw_data['InvoiceDate']= pd.to_datetime(raw_data['InvoiceDate'])\r\n",
        "print(raw_data['InvoiceDate'].min(), raw_data['InvoiceDate'].max())"
      ],
      "execution_count": null,
      "outputs": [
        {
          "output_type": "stream",
          "text": [
            "2010-12-01 08:26:00 2011-12-09 12:50:00\n"
          ],
          "name": "stdout"
        }
      ]
    },
    {
      "cell_type": "code",
      "metadata": {
        "id": "ug6bE-BSA1VH"
      },
      "source": [
        "# Lets clean the data\r\n",
        "data= raw_data.drop_duplicates() # drop all the duplicate line items\r\n",
        "data= data.dropna()              # drop all null value rows\r\n",
        "data= data[data['Quantity']>0]   # Filter out rows where quantity sold is less than or equal to zero"
      ],
      "execution_count": null,
      "outputs": []
    },
    {
      "cell_type": "code",
      "metadata": {
        "colab": {
          "base_uri": "https://localhost:8080/"
        },
        "id": "zQb8IAdgA1VH",
        "outputId": "8a6db7ea-58f4-4319-a048-fcf485e0157e"
      },
      "source": [
        "# lets check dimension\r\n",
        "data.shape"
      ],
      "execution_count": null,
      "outputs": [
        {
          "output_type": "execute_result",
          "data": {
            "text/plain": [
              "(392732, 8)"
            ]
          },
          "metadata": {
            "tags": []
          },
          "execution_count": 8
        }
      ]
    },
    {
      "cell_type": "code",
      "metadata": {
        "id": "061uKJPQA1VI"
      },
      "source": [
        "# Lets consider only required columns\r\n",
        "data1= data[['StockCode','Description','Quantity','UnitPrice']]"
      ],
      "execution_count": null,
      "outputs": []
    },
    {
      "cell_type": "code",
      "metadata": {
        "colab": {
          "base_uri": "https://localhost:8080/"
        },
        "id": "Ksmjh169A1VI",
        "outputId": "268bc68b-6093-47c9-891b-1aa05f7db875"
      },
      "source": [
        "# Add new column as revenue\r\n",
        "data1['revenue']=data1['Quantity']*data1['UnitPrice']"
      ],
      "execution_count": null,
      "outputs": [
        {
          "output_type": "stream",
          "text": [
            "/usr/local/lib/python3.7/dist-packages/ipykernel_launcher.py:2: SettingWithCopyWarning: \n",
            "A value is trying to be set on a copy of a slice from a DataFrame.\n",
            "Try using .loc[row_indexer,col_indexer] = value instead\n",
            "\n",
            "See the caveats in the documentation: https://pandas.pydata.org/pandas-docs/stable/user_guide/indexing.html#returning-a-view-versus-a-copy\n",
            "  \n"
          ],
          "name": "stderr"
        }
      ]
    },
    {
      "cell_type": "code",
      "metadata": {
        "colab": {
          "base_uri": "https://localhost:8080/",
          "height": 201
        },
        "id": "zG2U7YBkLNGC",
        "outputId": "fa8b5d14-c675-406c-e69b-e1b7b250858a"
      },
      "source": [
        "data1.head()"
      ],
      "execution_count": null,
      "outputs": [
        {
          "output_type": "execute_result",
          "data": {
            "text/html": [
              "<div>\n",
              "<style scoped>\n",
              "    .dataframe tbody tr th:only-of-type {\n",
              "        vertical-align: middle;\n",
              "    }\n",
              "\n",
              "    .dataframe tbody tr th {\n",
              "        vertical-align: top;\n",
              "    }\n",
              "\n",
              "    .dataframe thead th {\n",
              "        text-align: right;\n",
              "    }\n",
              "</style>\n",
              "<table border=\"1\" class=\"dataframe\">\n",
              "  <thead>\n",
              "    <tr style=\"text-align: right;\">\n",
              "      <th></th>\n",
              "      <th>StockCode</th>\n",
              "      <th>Description</th>\n",
              "      <th>Quantity</th>\n",
              "      <th>UnitPrice</th>\n",
              "      <th>revenue</th>\n",
              "    </tr>\n",
              "  </thead>\n",
              "  <tbody>\n",
              "    <tr>\n",
              "      <th>0</th>\n",
              "      <td>85123A</td>\n",
              "      <td>WHITE HANGING HEART T-LIGHT HOLDER</td>\n",
              "      <td>6</td>\n",
              "      <td>2.55</td>\n",
              "      <td>15.30</td>\n",
              "    </tr>\n",
              "    <tr>\n",
              "      <th>1</th>\n",
              "      <td>71053</td>\n",
              "      <td>WHITE METAL LANTERN</td>\n",
              "      <td>6</td>\n",
              "      <td>3.39</td>\n",
              "      <td>20.34</td>\n",
              "    </tr>\n",
              "    <tr>\n",
              "      <th>2</th>\n",
              "      <td>84406B</td>\n",
              "      <td>CREAM CUPID HEARTS COAT HANGER</td>\n",
              "      <td>8</td>\n",
              "      <td>2.75</td>\n",
              "      <td>22.00</td>\n",
              "    </tr>\n",
              "    <tr>\n",
              "      <th>3</th>\n",
              "      <td>84029G</td>\n",
              "      <td>KNITTED UNION FLAG HOT WATER BOTTLE</td>\n",
              "      <td>6</td>\n",
              "      <td>3.39</td>\n",
              "      <td>20.34</td>\n",
              "    </tr>\n",
              "    <tr>\n",
              "      <th>4</th>\n",
              "      <td>84029E</td>\n",
              "      <td>RED WOOLLY HOTTIE WHITE HEART.</td>\n",
              "      <td>6</td>\n",
              "      <td>3.39</td>\n",
              "      <td>20.34</td>\n",
              "    </tr>\n",
              "  </tbody>\n",
              "</table>\n",
              "</div>"
            ],
            "text/plain": [
              "  StockCode                          Description  Quantity  UnitPrice  revenue\n",
              "0    85123A   WHITE HANGING HEART T-LIGHT HOLDER         6       2.55    15.30\n",
              "1     71053                  WHITE METAL LANTERN         6       3.39    20.34\n",
              "2    84406B       CREAM CUPID HEARTS COAT HANGER         8       2.75    22.00\n",
              "3    84029G  KNITTED UNION FLAG HOT WATER BOTTLE         6       3.39    20.34\n",
              "4    84029E       RED WOOLLY HOTTIE WHITE HEART.         6       3.39    20.34"
            ]
          },
          "metadata": {
            "tags": []
          },
          "execution_count": 11
        }
      ]
    },
    {
      "cell_type": "code",
      "metadata": {
        "id": "WMBsir7VA1VJ"
      },
      "source": [
        "# Lets summarize the data for SKU's ( Per SKU Total Quantity & Total Revenue)\r\n",
        "data2= data1.groupby(['StockCode','Description']).agg(Volume=('Quantity',np.sum),Revenue=('revenue',np.sum)).reset_index()"
      ],
      "execution_count": null,
      "outputs": []
    },
    {
      "cell_type": "code",
      "metadata": {
        "colab": {
          "base_uri": "https://localhost:8080/",
          "height": 201
        },
        "id": "kldUAudfLk-i",
        "outputId": "2aae6400-3a04-4860-e1b0-b898af8542b1"
      },
      "source": [
        "data2.head()"
      ],
      "execution_count": null,
      "outputs": [
        {
          "output_type": "execute_result",
          "data": {
            "text/html": [
              "<div>\n",
              "<style scoped>\n",
              "    .dataframe tbody tr th:only-of-type {\n",
              "        vertical-align: middle;\n",
              "    }\n",
              "\n",
              "    .dataframe tbody tr th {\n",
              "        vertical-align: top;\n",
              "    }\n",
              "\n",
              "    .dataframe thead th {\n",
              "        text-align: right;\n",
              "    }\n",
              "</style>\n",
              "<table border=\"1\" class=\"dataframe\">\n",
              "  <thead>\n",
              "    <tr style=\"text-align: right;\">\n",
              "      <th></th>\n",
              "      <th>StockCode</th>\n",
              "      <th>Description</th>\n",
              "      <th>Volume</th>\n",
              "      <th>Revenue</th>\n",
              "    </tr>\n",
              "  </thead>\n",
              "  <tbody>\n",
              "    <tr>\n",
              "      <th>0</th>\n",
              "      <td>10002</td>\n",
              "      <td>INFLATABLE POLITICAL GLOBE</td>\n",
              "      <td>823</td>\n",
              "      <td>699.55</td>\n",
              "    </tr>\n",
              "    <tr>\n",
              "      <th>1</th>\n",
              "      <td>10080</td>\n",
              "      <td>GROOVY CACTUS INFLATABLE</td>\n",
              "      <td>291</td>\n",
              "      <td>114.41</td>\n",
              "    </tr>\n",
              "    <tr>\n",
              "      <th>2</th>\n",
              "      <td>10120</td>\n",
              "      <td>DOGGY RUBBER</td>\n",
              "      <td>192</td>\n",
              "      <td>40.32</td>\n",
              "    </tr>\n",
              "    <tr>\n",
              "      <th>3</th>\n",
              "      <td>10123C</td>\n",
              "      <td>HEARTS WRAPPING TAPE</td>\n",
              "      <td>5</td>\n",
              "      <td>3.25</td>\n",
              "    </tr>\n",
              "    <tr>\n",
              "      <th>4</th>\n",
              "      <td>10124A</td>\n",
              "      <td>SPOTS ON RED BOOKCOVER TAPE</td>\n",
              "      <td>16</td>\n",
              "      <td>6.72</td>\n",
              "    </tr>\n",
              "  </tbody>\n",
              "</table>\n",
              "</div>"
            ],
            "text/plain": [
              "  StockCode                  Description  Volume  Revenue\n",
              "0     10002  INFLATABLE POLITICAL GLOBE      823   699.55\n",
              "1     10080     GROOVY CACTUS INFLATABLE     291   114.41\n",
              "2     10120                 DOGGY RUBBER     192    40.32\n",
              "3    10123C        HEARTS WRAPPING TAPE        5     3.25\n",
              "4    10124A  SPOTS ON RED BOOKCOVER TAPE      16     6.72"
            ]
          },
          "metadata": {
            "tags": []
          },
          "execution_count": 13
        }
      ]
    },
    {
      "cell_type": "markdown",
      "metadata": {
        "id": "y3AMty3pMYBo"
      },
      "source": [
        "#Step-3: Inventory classifcation bassis Sales Volume"
      ]
    },
    {
      "cell_type": "code",
      "metadata": {
        "id": "1lqx8p7iA1VJ"
      },
      "source": [
        "# Lets classify the products to A B & C categories\r\n",
        "data_abc= inv.ABC(data2[['StockCode','Volume']])"
      ],
      "execution_count": null,
      "outputs": []
    },
    {
      "cell_type": "code",
      "metadata": {
        "id": "em9QIDlhA1VJ",
        "colab": {
          "base_uri": "https://localhost:8080/",
          "height": 201
        },
        "outputId": "d771ead8-6f0a-43a5-f5ad-058c37063752"
      },
      "source": [
        "# Lets check the classification\r\n",
        "data_abc.tail()"
      ],
      "execution_count": null,
      "outputs": [
        {
          "output_type": "execute_result",
          "data": {
            "text/html": [
              "<div>\n",
              "<style scoped>\n",
              "    .dataframe tbody tr th:only-of-type {\n",
              "        vertical-align: middle;\n",
              "    }\n",
              "\n",
              "    .dataframe tbody tr th {\n",
              "        vertical-align: top;\n",
              "    }\n",
              "\n",
              "    .dataframe thead th {\n",
              "        text-align: right;\n",
              "    }\n",
              "</style>\n",
              "<table border=\"1\" class=\"dataframe\">\n",
              "  <thead>\n",
              "    <tr style=\"text-align: right;\">\n",
              "      <th></th>\n",
              "      <th>StockCode</th>\n",
              "      <th>Volume</th>\n",
              "      <th>Percentage</th>\n",
              "      <th>comulative</th>\n",
              "      <th>Category</th>\n",
              "    </tr>\n",
              "  </thead>\n",
              "  <tbody>\n",
              "    <tr>\n",
              "      <th>3696</th>\n",
              "      <td>90100</td>\n",
              "      <td>1</td>\n",
              "      <td>1.935776e-07</td>\n",
              "      <td>0.999999</td>\n",
              "      <td>C</td>\n",
              "    </tr>\n",
              "    <tr>\n",
              "      <th>257</th>\n",
              "      <td>20892</td>\n",
              "      <td>1</td>\n",
              "      <td>1.935776e-07</td>\n",
              "      <td>0.999999</td>\n",
              "      <td>C</td>\n",
              "    </tr>\n",
              "    <tr>\n",
              "      <th>2608</th>\n",
              "      <td>35004P</td>\n",
              "      <td>1</td>\n",
              "      <td>1.935776e-07</td>\n",
              "      <td>1.000000</td>\n",
              "      <td>C</td>\n",
              "    </tr>\n",
              "    <tr>\n",
              "      <th>3686</th>\n",
              "      <td>90084</td>\n",
              "      <td>1</td>\n",
              "      <td>1.935776e-07</td>\n",
              "      <td>1.000000</td>\n",
              "      <td>C</td>\n",
              "    </tr>\n",
              "    <tr>\n",
              "      <th>3590</th>\n",
              "      <td>90014C</td>\n",
              "      <td>1</td>\n",
              "      <td>1.935776e-07</td>\n",
              "      <td>1.000000</td>\n",
              "      <td>C</td>\n",
              "    </tr>\n",
              "  </tbody>\n",
              "</table>\n",
              "</div>"
            ],
            "text/plain": [
              "     StockCode  Volume    Percentage  comulative Category\n",
              "3696     90100       1  1.935776e-07    0.999999        C\n",
              "257      20892       1  1.935776e-07    0.999999        C\n",
              "2608    35004P       1  1.935776e-07    1.000000        C\n",
              "3686     90084       1  1.935776e-07    1.000000        C\n",
              "3590    90014C       1  1.935776e-07    1.000000        C"
            ]
          },
          "metadata": {
            "tags": []
          },
          "execution_count": 17
        }
      ]
    },
    {
      "cell_type": "code",
      "metadata": {
        "colab": {
          "base_uri": "https://localhost:8080/"
        },
        "id": "aGV2Ki8LA1VK",
        "outputId": "03a6b3f3-ef25-4023-b19e-76fca14b2f1e"
      },
      "source": [
        "# let us check the count of Categories\r\n",
        "data_abc.Category.value_counts()"
      ],
      "execution_count": null,
      "outputs": [
        {
          "output_type": "execute_result",
          "data": {
            "text/plain": [
              "C    2143\n",
              "A     879\n",
              "B     875\n",
              "Name: Category, dtype: int64"
            ]
          },
          "metadata": {
            "tags": []
          },
          "execution_count": 18
        }
      ]
    },
    {
      "cell_type": "code",
      "metadata": {
        "id": "9D_h9DXjA1VK",
        "colab": {
          "base_uri": "https://localhost:8080/",
          "height": 140
        },
        "outputId": "c4187eee-b5a4-4521-9a24-a8c8936a3170"
      },
      "source": [
        "# What is the Sales volume share of A, B & C class products\r\n",
        "data_summary= data_abc.groupby('Category').agg(Count=('Category',np.count_nonzero),Volume_share=('Percentage',np.sum)).reset_index()\r\n",
        "data_summary['Volume_share']= data_summary['Volume_share']*100\r\n",
        "data_summary"
      ],
      "execution_count": null,
      "outputs": [
        {
          "output_type": "execute_result",
          "data": {
            "text/html": [
              "<div>\n",
              "<style scoped>\n",
              "    .dataframe tbody tr th:only-of-type {\n",
              "        vertical-align: middle;\n",
              "    }\n",
              "\n",
              "    .dataframe tbody tr th {\n",
              "        vertical-align: top;\n",
              "    }\n",
              "\n",
              "    .dataframe thead th {\n",
              "        text-align: right;\n",
              "    }\n",
              "</style>\n",
              "<table border=\"1\" class=\"dataframe\">\n",
              "  <thead>\n",
              "    <tr style=\"text-align: right;\">\n",
              "      <th></th>\n",
              "      <th>Category</th>\n",
              "      <th>Count</th>\n",
              "      <th>Volume_share</th>\n",
              "    </tr>\n",
              "  </thead>\n",
              "  <tbody>\n",
              "    <tr>\n",
              "      <th>0</th>\n",
              "      <td>A</td>\n",
              "      <td>879</td>\n",
              "      <td>79.996597</td>\n",
              "    </tr>\n",
              "    <tr>\n",
              "      <th>1</th>\n",
              "      <td>B</td>\n",
              "      <td>875</td>\n",
              "      <td>15.000989</td>\n",
              "    </tr>\n",
              "    <tr>\n",
              "      <th>2</th>\n",
              "      <td>C</td>\n",
              "      <td>2143</td>\n",
              "      <td>5.002414</td>\n",
              "    </tr>\n",
              "  </tbody>\n",
              "</table>\n",
              "</div>"
            ],
            "text/plain": [
              "  Category  Count  Volume_share\n",
              "0        A    879     79.996597\n",
              "1        B    875     15.000989\n",
              "2        C   2143      5.002414"
            ]
          },
          "metadata": {
            "tags": []
          },
          "execution_count": 19
        }
      ]
    },
    {
      "cell_type": "code",
      "metadata": {
        "colab": {
          "base_uri": "https://localhost:8080/",
          "height": 296
        },
        "id": "r65us_nsA1VL",
        "outputId": "4235d735-dbc0-42f6-c01d-5527997a3514"
      },
      "source": [
        "# Lets plot the graph for count of Categories A, B, C\r\n",
        "sns.countplot(x='Category',data=data_abc, label=True )"
      ],
      "execution_count": null,
      "outputs": [
        {
          "output_type": "execute_result",
          "data": {
            "text/plain": [
              "<matplotlib.axes._subplots.AxesSubplot at 0x7f2eb6bcb510>"
            ]
          },
          "metadata": {
            "tags": []
          },
          "execution_count": 20
        },
        {
          "output_type": "display_data",
          "data": {
            "image/png": "[encoded data removed]",
            "text/plain": [
              "<Figure size 432x288 with 1 Axes>"
            ]
          },
          "metadata": {
            "tags": [],
            "needs_background": "light"
          }
        }
      ]
    },
    {
      "cell_type": "code",
      "metadata": {
        "id": "oVm3Tb9BHbu5"
      },
      "source": [
        "# Lets export the classified inventory data to the CSV\r\n",
        "data_abc.to_csv('/content/drive/MyDrive/classified_data.csv')"
      ],
      "execution_count": null,
      "outputs": []
    },
    {
      "cell_type": "code",
      "metadata": {
        "id": "lJ6P0mPnNqwy"
      },
      "source": [
        ""
      ],
      "execution_count": null,
      "outputs": []
    }
  ]
}